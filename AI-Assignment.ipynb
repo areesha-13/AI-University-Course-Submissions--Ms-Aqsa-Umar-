{
 "cells": [
  {
   "cell_type": "markdown",
   "id": "f16a9d0e-1763-4b56-ace6-6e526d1e5a8e",
   "metadata": {},
   "source": [
    "PYTHON ASSIGNMENT"
   ]
  },
  {
   "cell_type": "raw",
   "id": "04b4a135-8365-4af9-8f22-e976155095bd",
   "metadata": {},
   "source": [
    "1- Python Basics (Strings, Data types, loops, If else conditions, functions, Classes)"
   ]
  },
  {
   "cell_type": "code",
   "execution_count": 1,
   "id": "144dd590-a085-4320-9359-d55f2ef080a3",
   "metadata": {},
   "outputs": [
    {
     "name": "stdout",
     "output_type": "stream",
     "text": [
      "Hello, World!\n",
      "Hello, World! How are you?\n",
      "World!\n"
     ]
    }
   ],
   "source": [
    "# Strings: Strings in Python are sequences of characters, enclosed in single or double quotes. You can perform various operations on strings, such as concatenation, slicing, and formatting.\n",
    "\n",
    "# Define a string\n",
    "my_string = \"Hello, World!\"\n",
    "print(my_string)\n",
    "\n",
    "# String concatenation\n",
    "new_string = my_string + \" How are you?\"\n",
    "print(new_string)\n",
    "\n",
    "# String slicing\n",
    "substring = my_string[7:]\n",
    "print(substring)\n"
   ]
  },
  {
   "cell_type": "code",
   "execution_count": 2,
   "id": "588956e9-523d-48be-8f34-1ea0283bfce0",
   "metadata": {},
   "outputs": [
    {
     "name": "stdout",
     "output_type": "stream",
     "text": [
      "42\n",
      "3.14\n",
      "[1, 2, 3, 4, 5]\n",
      "(1, 2, 3)\n",
      "{'name': 'Alice', 'age': 30}\n",
      "{1, 2, 3, 4, 5}\n"
     ]
    }
   ],
   "source": [
    "# Data Types: Python has several built-in data types, including integers, floats, strings, lists, tuples, dictionaries, and sets. Understanding these data types is essential for effective programming.\n",
    "\n",
    "# Integer\n",
    "my_int = 42\n",
    "print(my_int)\n",
    "\n",
    "# Float\n",
    "my_float = 3.14\n",
    "print(my_float)\n",
    "\n",
    "# List\n",
    "my_list = [1, 2, 3, 4, 5]\n",
    "print(my_list)\n",
    "\n",
    "# Tuple\n",
    "my_tuple = (1, 2, 3)\n",
    "print(my_tuple)\n",
    "\n",
    "# Dictionary\n",
    "my_dict = {\"name\": \"Alice\", \"age\": 30}\n",
    "print(my_dict)\n",
    "\n",
    "# Set\n",
    "my_set = {1, 2, 3, 4, 5}\n",
    "print(my_set)"
   ]
  },
  {
   "cell_type": "code",
   "execution_count": 3,
   "id": "cf553f3a-0c00-496f-b282-8cfba421f130",
   "metadata": {},
   "outputs": [
    {
     "name": "stdout",
     "output_type": "stream",
     "text": [
      "0\n",
      "1\n",
      "2\n",
      "3\n",
      "4\n",
      "0\n",
      "1\n",
      "2\n",
      "3\n",
      "4\n"
     ]
    }
   ],
   "source": [
    "# Loops: Python supports two main types of loops: for loops and while loops. These loops allow you to iterate over sequences or execute a code block repeatedly based on a condition.\n",
    "\n",
    "# For loop\n",
    "for i in range(5):\n",
    "    print(i)\n",
    "\n",
    "# While loop\n",
    "i = 0\n",
    "while i < 5:\n",
    "    print(i)\n",
    "    i += 1\n"
   ]
  },
  {
   "cell_type": "code",
   "execution_count": 4,
   "id": "719b61f3-e984-476b-bbef-036404563986",
   "metadata": {},
   "outputs": [
    {
     "name": "stdout",
     "output_type": "stream",
     "text": [
      "x is greater than 5\n"
     ]
    }
   ],
   "source": [
    "# If-Else Conditions: Conditional statements in Python, such as if, elif, and else, are used to perform different actions based on various conditions.\n",
    "\n",
    "# If-else statement\n",
    "x = 10\n",
    "if x > 5:\n",
    "    print(\"x is greater than 5\")\n",
    "else:\n",
    "    print(\"x is less than or equal to 5\")\n"
   ]
  },
  {
   "cell_type": "code",
   "execution_count": 5,
   "id": "0fe7c4cd-0b56-46ce-bb04-186597512280",
   "metadata": {},
   "outputs": [
    {
     "name": "stdout",
     "output_type": "stream",
     "text": [
      "Hello, Alice!\n"
     ]
    }
   ],
   "source": [
    "# Functions: Functions in Python are blocks of reusable code that perform a specific task. They help in organizing code and making it more readable and maintainable.\n",
    "\n",
    "# Function definition\n",
    "def greet(name):\n",
    "    return \"Hello, \" + name + \"!\"\n",
    "\n",
    "# Function call\n",
    "message = greet(\"Alice\")\n",
    "print(message)\n"
   ]
  },
  {
   "cell_type": "code",
   "execution_count": 6,
   "id": "d8281429-1bfd-4dbe-a22f-fb0964b7468e",
   "metadata": {},
   "outputs": [
    {
     "name": "stdout",
     "output_type": "stream",
     "text": [
      "Hello, my name is Alice and I am 30 years old.\n"
     ]
    }
   ],
   "source": [
    "# Classes: Classes are used to create new user-defined data structures containing data and methods. They are the foundation of object-oriented programming in Python.\n",
    "\n",
    "# Class definition\n",
    "class Person:\n",
    "    def __init__(self, name, age):\n",
    "        self.name = name\n",
    "        self.age = age\n",
    "    \n",
    "    def greet(self):\n",
    "        return \"Hello, my name is \" + self.name + \" and I am \" + str(self.age) + \" years old.\"\n",
    "\n",
    "# Object creation\n",
    "person = Person(\"Alice\", 30)\n",
    "message = person.greet()\n",
    "print(message)\n"
   ]
  },
  {
   "cell_type": "markdown",
   "id": "c6998ccf-26ea-4e6b-a894-b1d305621996",
   "metadata": {},
   "source": [
    "2- Numpy and Pandas"
   ]
  },
  {
   "cell_type": "raw",
   "id": "7763277b-fb8a-48e2-9a1b-ca1d145593dc",
   "metadata": {},
   "source": [
    "NumPy is a core library for numerical computing in Python, providing support for large, multi-dimensional arrays and matrices, along with a collection of mathematical functions to operate on these arrays. It is essential for tasks like linear algebra, statistical analysis, and mathematical operations on arrays.\n",
    "\n",
    "Pandas, built on top of NumPy, is designed for data manipulation and analysis. It offers data structures like Series and DataFrame that are for working with structured data. Pandas is widely used for tasks like data cleaning, transformation, and analysis in data science and data analysis workflows."
   ]
  },
  {
   "cell_type": "code",
   "execution_count": 1,
   "id": "24f81052-55ff-455c-a9b0-8fdd8c971d38",
   "metadata": {},
   "outputs": [
    {
     "name": "stdout",
     "output_type": "stream",
     "text": [
      "[1 2 3 4 5]\n",
      "0    10\n",
      "1    20\n",
      "2    30\n",
      "3    40\n",
      "4    50\n",
      "dtype: int64\n",
      "      Name  Age         City\n",
      "0    Alice   25     New York\n",
      "1      Bob   30  Los Angeles\n",
      "2  Charlie   35      Chicago\n"
     ]
    }
   ],
   "source": [
    "import numpy as np\n",
    "import pandas as pd\n",
    "\n",
    "# Numpy array\n",
    "my_array = np.array([1, 2, 3, 4, 5])\n",
    "print(my_array)\n",
    "\n",
    "# Pandas Series\n",
    "my_series = pd.Series([10, 20, 30, 40, 50])\n",
    "print(my_series)\n",
    "\n",
    "# Dataframe creation from a dictionary\n",
    "data = {\"Name\": [\"Alice\", \"Bob\", \"Charlie\"],\n",
    "        \"Age\": [25, 30, 35],\n",
    "        \"City\": [\"New York\", \"Los Angeles\", \"Chicago\"]}\n",
    "df = pd.DataFrame(data)\n",
    "print(df)"
   ]
  },
  {
   "cell_type": "markdown",
   "id": "fc99b817-c84d-4594-8922-edd0f189f872",
   "metadata": {},
   "source": [
    "3- Dataset download( Max two datasets at the topic somehow related to the Cyber Security) (Source; Kaggle.com, UCI machine learning, Github)"
   ]
  },
  {
   "cell_type": "raw",
   "id": "b33e4ab7-5aa8-4076-bad3-f62e81251de9",
   "metadata": {},
   "source": [
    "Dataset - NSL-KDD\n",
    "Link - https://www.kaggle.com/datasets/hassan06/nslkdd/data\n",
    "API Command - Kaggle datasets download -d hassan06/nslkdd\n",
    "Possible Project Ideas - Anomaly Detection System\n",
    "                         Intrusion Prevention System"
   ]
  }
 ],
 "metadata": {
  "kernelspec": {
   "display_name": "Python 3 (ipykernel)",
   "language": "python",
   "name": "python3"
  },
  "language_info": {
   "codemirror_mode": {
    "name": "ipython",
    "version": 3
   },
   "file_extension": ".py",
   "mimetype": "text/x-python",
   "name": "python",
   "nbconvert_exporter": "python",
   "pygments_lexer": "ipython3",
   "version": "3.12.2"
  }
 },
 "nbformat": 4,
 "nbformat_minor": 5
}
